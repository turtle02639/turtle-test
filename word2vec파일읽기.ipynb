{
  "nbformat": 4,
  "nbformat_minor": 0,
  "metadata": {
    "colab": {
      "name": "word2vec파일읽기.ipynb",
      "version": "0.3.2",
      "provenance": [],
      "collapsed_sections": [],
      "include_colab_link": true
    },
    "kernelspec": {
      "name": "python3",
      "display_name": "Python 3"
    }
  },
  "cells": [
    {
      "cell_type": "markdown",
      "metadata": {
        "id": "view-in-github",
        "colab_type": "text"
      },
      "source": [
        "<a href=\"https://colab.research.google.com/github/turtle02639/turtle-test/blob/master/word2vec%ED%8C%8C%EC%9D%BC%EC%9D%BD%EA%B8%B0.ipynb\" target=\"_parent\"><img src=\"https://colab.research.google.com/assets/colab-badge.svg\" alt=\"Open In Colab\"/></a>"
      ]
    },
    {
      "cell_type": "code",
      "metadata": {
        "id": "lve7fEJtaqwe",
        "colab_type": "code",
        "colab": {}
      },
      "source": [
        ""
      ],
      "execution_count": 0,
      "outputs": []
    },
    {
      "cell_type": "code",
      "metadata": {
        "id": "Qj8NIvyFMRNr",
        "colab_type": "code",
        "colab": {
          "base_uri": "https://localhost:8080/",
          "height": 52
        },
        "outputId": "344e8bad-34a1-4406-a38c-bc18970be094"
      },
      "source": [
        "# 구글 드라이브에서 csv 파일을 읽어오기 위해 gauth 인증을 합니다.\n",
        "!pip install -U -q PyDrive\n",
        "from pydrive.auth import GoogleAuth\n",
        "from pydrive.drive import GoogleDrive\n",
        "from google.colab import auth\n",
        "from oauth2client.client import GoogleCredentials\n",
        "# Authenticate and create the PyDrive client.\n",
        "auth.authenticate_user()\n",
        "gauth = GoogleAuth()\n",
        "gauth.credentials = GoogleCredentials.get_application_default()\n",
        "drive = GoogleDrive(gauth)"
      ],
      "execution_count": 2,
      "outputs": [
        {
          "output_type": "stream",
          "text": [
            "\u001b[?25l\r\u001b[K     |▎                               | 10kB 16.4MB/s eta 0:00:01\r\u001b[K     |▋                               | 20kB 1.2MB/s eta 0:00:01\r\u001b[K     |█                               | 30kB 1.7MB/s eta 0:00:01\r\u001b[K     |█▎                              | 40kB 1.1MB/s eta 0:00:01\r\u001b[K     |█▋                              | 51kB 1.4MB/s eta 0:00:01\r\u001b[K     |██                              | 61kB 1.7MB/s eta 0:00:01\r\u001b[K     |██▎                             | 71kB 1.9MB/s eta 0:00:01\r\u001b[K     |██▋                             | 81kB 2.2MB/s eta 0:00:01\r\u001b[K     |███                             | 92kB 2.5MB/s eta 0:00:01\r\u001b[K     |███▎                            | 102kB 1.9MB/s eta 0:00:01\r\u001b[K     |███▋                            | 112kB 1.9MB/s eta 0:00:01\r\u001b[K     |████                            | 122kB 1.9MB/s eta 0:00:01\r\u001b[K     |████▎                           | 133kB 1.9MB/s eta 0:00:01\r\u001b[K     |████▋                           | 143kB 1.9MB/s eta 0:00:01\r\u001b[K     |█████                           | 153kB 1.9MB/s eta 0:00:01\r\u001b[K     |█████▎                          | 163kB 1.9MB/s eta 0:00:01\r\u001b[K     |█████▋                          | 174kB 1.9MB/s eta 0:00:01\r\u001b[K     |██████                          | 184kB 1.9MB/s eta 0:00:01\r\u001b[K     |██████▎                         | 194kB 1.9MB/s eta 0:00:01\r\u001b[K     |██████▋                         | 204kB 1.9MB/s eta 0:00:01\r\u001b[K     |███████                         | 215kB 1.9MB/s eta 0:00:01\r\u001b[K     |███████▎                        | 225kB 1.9MB/s eta 0:00:01\r\u001b[K     |███████▋                        | 235kB 1.9MB/s eta 0:00:01\r\u001b[K     |████████                        | 245kB 1.9MB/s eta 0:00:01\r\u001b[K     |████████▎                       | 256kB 1.9MB/s eta 0:00:01\r\u001b[K     |████████▋                       | 266kB 1.9MB/s eta 0:00:01\r\u001b[K     |█████████                       | 276kB 1.9MB/s eta 0:00:01\r\u001b[K     |█████████▎                      | 286kB 1.9MB/s eta 0:00:01\r\u001b[K     |█████████▋                      | 296kB 1.9MB/s eta 0:00:01\r\u001b[K     |██████████                      | 307kB 1.9MB/s eta 0:00:01\r\u001b[K     |██████████▎                     | 317kB 1.9MB/s eta 0:00:01\r\u001b[K     |██████████▋                     | 327kB 1.9MB/s eta 0:00:01\r\u001b[K     |███████████                     | 337kB 1.9MB/s eta 0:00:01\r\u001b[K     |███████████▎                    | 348kB 1.9MB/s eta 0:00:01\r\u001b[K     |███████████▋                    | 358kB 1.9MB/s eta 0:00:01\r\u001b[K     |████████████                    | 368kB 1.9MB/s eta 0:00:01\r\u001b[K     |████████████▎                   | 378kB 1.9MB/s eta 0:00:01\r\u001b[K     |████████████▋                   | 389kB 1.9MB/s eta 0:00:01\r\u001b[K     |█████████████                   | 399kB 1.9MB/s eta 0:00:01\r\u001b[K     |█████████████▎                  | 409kB 1.9MB/s eta 0:00:01\r\u001b[K     |█████████████▋                  | 419kB 1.9MB/s eta 0:00:01\r\u001b[K     |██████████████                  | 430kB 1.9MB/s eta 0:00:01\r\u001b[K     |██████████████▎                 | 440kB 1.9MB/s eta 0:00:01\r\u001b[K     |██████████████▋                 | 450kB 1.9MB/s eta 0:00:01\r\u001b[K     |███████████████                 | 460kB 1.9MB/s eta 0:00:01\r\u001b[K     |███████████████▎                | 471kB 1.9MB/s eta 0:00:01\r\u001b[K     |███████████████▋                | 481kB 1.9MB/s eta 0:00:01\r\u001b[K     |████████████████                | 491kB 1.9MB/s eta 0:00:01\r\u001b[K     |████████████████▎               | 501kB 1.9MB/s eta 0:00:01\r\u001b[K     |████████████████▋               | 512kB 1.9MB/s eta 0:00:01\r\u001b[K     |█████████████████               | 522kB 1.9MB/s eta 0:00:01\r\u001b[K     |█████████████████▎              | 532kB 1.9MB/s eta 0:00:01\r\u001b[K     |█████████████████▋              | 542kB 1.9MB/s eta 0:00:01\r\u001b[K     |██████████████████              | 552kB 1.9MB/s eta 0:00:01\r\u001b[K     |██████████████████▎             | 563kB 1.9MB/s eta 0:00:01\r\u001b[K     |██████████████████▋             | 573kB 1.9MB/s eta 0:00:01\r\u001b[K     |███████████████████             | 583kB 1.9MB/s eta 0:00:01\r\u001b[K     |███████████████████▎            | 593kB 1.9MB/s eta 0:00:01\r\u001b[K     |███████████████████▋            | 604kB 1.9MB/s eta 0:00:01\r\u001b[K     |████████████████████            | 614kB 1.9MB/s eta 0:00:01\r\u001b[K     |████████████████████▎           | 624kB 1.9MB/s eta 0:00:01\r\u001b[K     |████████████████████▋           | 634kB 1.9MB/s eta 0:00:01\r\u001b[K     |█████████████████████           | 645kB 1.9MB/s eta 0:00:01\r\u001b[K     |█████████████████████▎          | 655kB 1.9MB/s eta 0:00:01\r\u001b[K     |█████████████████████▋          | 665kB 1.9MB/s eta 0:00:01\r\u001b[K     |██████████████████████          | 675kB 1.9MB/s eta 0:00:01\r\u001b[K     |██████████████████████▎         | 686kB 1.9MB/s eta 0:00:01\r\u001b[K     |██████████████████████▋         | 696kB 1.9MB/s eta 0:00:01\r\u001b[K     |███████████████████████         | 706kB 1.9MB/s eta 0:00:01\r\u001b[K     |███████████████████████▎        | 716kB 1.9MB/s eta 0:00:01\r\u001b[K     |███████████████████████▋        | 727kB 1.9MB/s eta 0:00:01\r\u001b[K     |████████████████████████        | 737kB 1.9MB/s eta 0:00:01\r\u001b[K     |████████████████████████▎       | 747kB 1.9MB/s eta 0:00:01\r\u001b[K     |████████████████████████▋       | 757kB 1.9MB/s eta 0:00:01\r\u001b[K     |████████████████████████▉       | 768kB 1.9MB/s eta 0:00:01\r\u001b[K     |█████████████████████████▏      | 778kB 1.9MB/s eta 0:00:01\r\u001b[K     |█████████████████████████▌      | 788kB 1.9MB/s eta 0:00:01\r\u001b[K     |█████████████████████████▉      | 798kB 1.9MB/s eta 0:00:01\r\u001b[K     |██████████████████████████▏     | 808kB 1.9MB/s eta 0:00:01\r\u001b[K     |██████████████████████████▌     | 819kB 1.9MB/s eta 0:00:01\r\u001b[K     |██████████████████████████▉     | 829kB 1.9MB/s eta 0:00:01\r\u001b[K     |███████████████████████████▏    | 839kB 1.9MB/s eta 0:00:01\r\u001b[K     |███████████████████████████▌    | 849kB 1.9MB/s eta 0:00:01\r\u001b[K     |███████████████████████████▉    | 860kB 1.9MB/s eta 0:00:01\r\u001b[K     |████████████████████████████▏   | 870kB 1.9MB/s eta 0:00:01\r\u001b[K     |████████████████████████████▌   | 880kB 1.9MB/s eta 0:00:01\r\u001b[K     |████████████████████████████▉   | 890kB 1.9MB/s eta 0:00:01\r\u001b[K     |█████████████████████████████▏  | 901kB 1.9MB/s eta 0:00:01\r\u001b[K     |█████████████████████████████▌  | 911kB 1.9MB/s eta 0:00:01\r\u001b[K     |█████████████████████████████▉  | 921kB 1.9MB/s eta 0:00:01\r\u001b[K     |██████████████████████████████▏ | 931kB 1.9MB/s eta 0:00:01\r\u001b[K     |██████████████████████████████▌ | 942kB 1.9MB/s eta 0:00:01\r\u001b[K     |██████████████████████████████▉ | 952kB 1.9MB/s eta 0:00:01\r\u001b[K     |███████████████████████████████▏| 962kB 1.9MB/s eta 0:00:01\r\u001b[K     |███████████████████████████████▌| 972kB 1.9MB/s eta 0:00:01\r\u001b[K     |███████████████████████████████▉| 983kB 1.9MB/s eta 0:00:01\r\u001b[K     |████████████████████████████████| 993kB 1.9MB/s \n",
            "\u001b[?25h  Building wheel for PyDrive (setup.py) ... \u001b[?25l\u001b[?25hdone\n"
          ],
          "name": "stdout"
        }
      ]
    },
    {
      "cell_type": "code",
      "metadata": {
        "id": "Iqwd7sTVO0I9",
        "colab_type": "code",
        "outputId": "9ce1f623-7f6d-4f59-d640-3178749e5f62",
        "colab": {
          "base_uri": "https://localhost:8080/",
          "height": 52
        }
      },
      "source": [
        "url_it ='https://drive.google.com/open?id=10EwI9yEZIIYDu2eDUiNIb1l5v8CfXb0_'\n",
        "id_it = url_it.split('=')[1]\n",
        "print(id_it)\n",
        "\n",
        "url_culture ='https://drive.google.com/open?id=1dIqTcT4RP5LrY0M27PrMruNygBhlO_t9'\n",
        "id_culture = url_culture.split('=')[1]\n",
        "print(id_culture)"
      ],
      "execution_count": 3,
      "outputs": [
        {
          "output_type": "stream",
          "text": [
            "10EwI9yEZIIYDu2eDUiNIb1l5v8CfXb0_\n",
            "1dIqTcT4RP5LrY0M27PrMruNygBhlO_t9\n"
          ],
          "name": "stdout"
        }
      ]
    },
    {
      "cell_type": "code",
      "metadata": {
        "id": "dfO2JFdyPZuN",
        "colab_type": "code",
        "outputId": "fbe407b0-52c8-48b5-e0b9-7096d2aa56e9",
        "colab": {
          "base_uri": "https://localhost:8080/",
          "height": 35
        }
      },
      "source": [
        "%ls"
      ],
      "execution_count": 4,
      "outputs": [
        {
          "output_type": "stream",
          "text": [
            "adc.json  \u001b[0m\u001b[01;34msample_data\u001b[0m/\n"
          ],
          "name": "stdout"
        }
      ]
    },
    {
      "cell_type": "code",
      "metadata": {
        "id": "DSHfjbKaPGZk",
        "colab_type": "code",
        "colab": {}
      },
      "source": [
        "# it관련 기사를 판다스를 통해 읽어온다.\n",
        "downloaded = drive.CreateFile({'id':id_it}) \n",
        "downloaded.GetContentFile('2_word_embedding_it.csv')  \n",
        "\n",
        "# 문화관련 기사를 판다스를 통해 읽어온다.\n",
        "downloaded = drive.CreateFile({'id':id_culture}) \n",
        "downloaded.GetContentFile('2_word_embedding_culture.csv')  "
      ],
      "execution_count": 0,
      "outputs": []
    },
    {
      "cell_type": "code",
      "metadata": {
        "id": "EnR-gpSTPkYy",
        "colab_type": "code",
        "outputId": "1842fd6b-34dd-44c1-9b72-da5fd7e9167f",
        "colab": {
          "base_uri": "https://localhost:8080/",
          "height": 35
        }
      },
      "source": [
        "%ls"
      ],
      "execution_count": 6,
      "outputs": [
        {
          "output_type": "stream",
          "text": [
            "2_word_embedding_culture.csv  2_word_embedding_it.csv  adc.json  \u001b[0m\u001b[01;34msample_data\u001b[0m/\n"
          ],
          "name": "stdout"
        }
      ]
    },
    {
      "cell_type": "code",
      "metadata": {
        "id": "wVj6AxV3PqAc",
        "colab_type": "code",
        "colab": {}
      },
      "source": [
        "import pandas as pd\n",
        "it_df = pd.read_csv('2_word_embedding_it.csv').dropna() # 디폴트로 NaN이 1개라도 포함되면 해당 행이 삭제\n",
        "culture_df = pd.read_csv('2_word_embedding_culture.csv').dropna()"
      ],
      "execution_count": 0,
      "outputs": []
    },
    {
      "cell_type": "code",
      "metadata": {
        "id": "OyO2k2Y6bIxv",
        "colab_type": "code",
        "colab": {}
      },
      "source": [
        "it_token_ls = list(it_df.loc[:,'1'])\n",
        "culture_token_ls = list(culture_df.loc[:,'1'])\n",
        "total_token_ls = it_token_ls + culture_token_ls"
      ],
      "execution_count": 0,
      "outputs": []
    },
    {
      "cell_type": "code",
      "metadata": {
        "id": "6q82AhUtdSJT",
        "colab_type": "code",
        "colab": {
          "base_uri": "https://localhost:8080/",
          "height": 55
        },
        "outputId": "54f4828f-5ac4-488f-b37a-a2be141f28b8"
      },
      "source": [
        "total_token_ls[0]"
      ],
      "execution_count": 10,
      "outputs": [
        {
          "output_type": "execute_result",
          "data": {
            "text/plain": [
              "'배,정회,신임,과학기술,일자리,진흥,원장,아시아,경제,이민,우,배,정회,전,국립,중앙,과학,관,전시,연구,단장,과학기술,일자리,진흥,제,원장,취임,과학기술,정보,통신,같은,인사,발표,임기,날,동안,배,신임,원장,행정,고등고시,공직,입문,교육,과학기술,부,융합,기술,과장,중앙대,경영,경제,초빙교수,과기,정통부,연구,성과,활용,정책,과장,연구,성과,혁신,기획,과장,과학기술,정책,수립,정부,연구개발,연구,기술,이전,사업,두루,경험,보유,평가,배,신임,원장,날,환담,회,새로운,임무,조직,신속히,성하고,직원,역량,강화하겠다,며,실험실,유망,기술,전,문,기업,연결하며,기술,이전,효과,지원,신,기술,창업,통한,미래,일자리,많이,창,고,이민,우,네이버,홈,아시아,경제,뉴스,확인,재미,신기,과학,꿀,잼,인,기,만화,경제,눈,세계,창,아시아,경제,전,재'"
            ]
          },
          "metadata": {
            "tags": []
          },
          "execution_count": 10
        }
      ]
    },
    {
      "cell_type": "code",
      "metadata": {
        "id": "zS3RjnFycg3w",
        "colab_type": "code",
        "colab": {
          "base_uri": "https://localhost:8080/",
          "height": 35
        },
        "outputId": "f28ed13b-9315-4eb9-8f1e-aee0c9b4ed4b"
      },
      "source": [
        "total_token_ls = [tokens.split(',') for tokens in total_token_ls]\n",
        "total_token_ls[0][:10]"
      ],
      "execution_count": 11,
      "outputs": [
        {
          "output_type": "execute_result",
          "data": {
            "text/plain": [
              "['배', '정회', '신임', '과학기술', '일자리', '진흥', '원장', '아시아', '경제', '이민']"
            ]
          },
          "metadata": {
            "tags": []
          },
          "execution_count": 11
        }
      ]
    },
    {
      "cell_type": "code",
      "metadata": {
        "id": "TheKcaPQd1Cf",
        "colab_type": "code",
        "colab": {
          "base_uri": "https://localhost:8080/",
          "height": 409
        },
        "outputId": "67dc49a2-ac52-4af2-f43e-033ff2d2c1cf"
      },
      "source": [
        "!pip install paramiko\n",
        "from gensim.models import Word2Vec"
      ],
      "execution_count": 14,
      "outputs": [
        {
          "output_type": "stream",
          "text": [
            "Collecting paramiko\n",
            "\u001b[?25l  Downloading https://files.pythonhosted.org/packages/cf/ae/94e70d49044ccc234bfdba20114fa947d7ba6eb68a2e452d89b920e62227/paramiko-2.4.2-py2.py3-none-any.whl (193kB)\n",
            "\u001b[K     |████████████████████████████████| 194kB 2.0MB/s \n",
            "\u001b[?25hRequirement already satisfied: pyasn1>=0.1.7 in /usr/local/lib/python3.6/dist-packages (from paramiko) (0.4.5)\n",
            "Collecting pynacl>=1.0.1 (from paramiko)\n",
            "\u001b[?25l  Downloading https://files.pythonhosted.org/packages/27/15/2cd0a203f318c2240b42cd9dd13c931ddd61067809fee3479f44f086103e/PyNaCl-1.3.0-cp34-abi3-manylinux1_x86_64.whl (759kB)\n",
            "\u001b[K     |████████████████████████████████| 768kB 43.8MB/s \n",
            "\u001b[?25hCollecting bcrypt>=3.1.3 (from paramiko)\n",
            "\u001b[?25l  Downloading https://files.pythonhosted.org/packages/d0/79/79a4d167a31cc206117d9b396926615fa9c1fdbd52017bcced80937ac501/bcrypt-3.1.6-cp34-abi3-manylinux1_x86_64.whl (55kB)\n",
            "\u001b[K     |████████████████████████████████| 61kB 22.5MB/s \n",
            "\u001b[?25hCollecting cryptography>=1.5 (from paramiko)\n",
            "\u001b[?25l  Downloading https://files.pythonhosted.org/packages/5b/12/b0409a94dad366d98a8eee2a77678c7a73aafd8c0e4b835abea634ea3896/cryptography-2.6.1-cp34-abi3-manylinux1_x86_64.whl (2.3MB)\n",
            "\u001b[K     |████████████████████████████████| 2.3MB 43.0MB/s \n",
            "\u001b[?25hRequirement already satisfied: six in /usr/local/lib/python3.6/dist-packages (from pynacl>=1.0.1->paramiko) (1.12.0)\n",
            "Requirement already satisfied: cffi>=1.4.1 in /usr/local/lib/python3.6/dist-packages (from pynacl>=1.0.1->paramiko) (1.12.3)\n",
            "Collecting asn1crypto>=0.21.0 (from cryptography>=1.5->paramiko)\n",
            "\u001b[?25l  Downloading https://files.pythonhosted.org/packages/ea/cd/35485615f45f30a510576f1a56d1e0a7ad7bd8ab5ed7cdc600ef7cd06222/asn1crypto-0.24.0-py2.py3-none-any.whl (101kB)\n",
            "\u001b[K     |████████████████████████████████| 102kB 23.6MB/s \n",
            "\u001b[?25hRequirement already satisfied: pycparser in /usr/local/lib/python3.6/dist-packages (from cffi>=1.4.1->pynacl>=1.0.1->paramiko) (2.19)\n",
            "Installing collected packages: pynacl, bcrypt, asn1crypto, cryptography, paramiko\n",
            "Successfully installed asn1crypto-0.24.0 bcrypt-3.1.6 cryptography-2.6.1 paramiko-2.4.2 pynacl-1.3.0\n"
          ],
          "name": "stdout"
        }
      ]
    },
    {
      "cell_type": "code",
      "metadata": {
        "id": "x_BGk8pdeUaP",
        "colab_type": "code",
        "colab": {}
      },
      "source": [
        "word2vec = Word2Vec(\n",
        "  sentences = total_token_ls,\n",
        "  size = 30,\n",
        "  alpha = 0.025,\n",
        "  min_count = 2,\n",
        "  window = 8,\n",
        "  sample = 0.001,\n",
        "  sg = 1,\n",
        "  iter = 10\n",
        ")"
      ],
      "execution_count": 0,
      "outputs": []
    },
    {
      "cell_type": "code",
      "metadata": {
        "id": "R31flspY0YFB",
        "colab_type": "code",
        "colab": {
          "base_uri": "https://localhost:8080/",
          "height": 141
        },
        "outputId": "87a487fd-0d8d-4e33-c570-53f60b30593d"
      },
      "source": [
        "word2vec.wv.__getitem__('문화')"
      ],
      "execution_count": 16,
      "outputs": [
        {
          "output_type": "execute_result",
          "data": {
            "text/plain": [
              "array([ 0.19462915, -0.07800462, -0.16522019,  0.06002261,  0.8845403 ,\n",
              "       -0.16098015,  0.5060063 , -0.0601596 , -0.61081105,  1.2926267 ,\n",
              "       -0.08014962,  0.40367264,  0.00500606, -0.07642285, -1.6041218 ,\n",
              "       -0.19299316, -0.44431567,  0.24999027, -0.02965964,  0.8449468 ,\n",
              "        0.7756522 , -0.16889857,  0.48707333,  0.78483593,  0.11000288,\n",
              "        0.60877365,  0.19209127, -0.64368767,  0.01522493,  0.26039386],\n",
              "      dtype=float32)"
            ]
          },
          "metadata": {
            "tags": []
          },
          "execution_count": 16
        }
      ]
    },
    {
      "cell_type": "code",
      "metadata": {
        "id": "m6DB8E_m0hKa",
        "colab_type": "code",
        "colab": {
          "base_uri": "https://localhost:8080/",
          "height": 250
        },
        "outputId": "6aac6b71-4f32-4b88-cb28-f5fabbffe078"
      },
      "source": [
        "word2vec.wv.most_similar('인공')"
      ],
      "execution_count": 17,
      "outputs": [
        {
          "output_type": "stream",
          "text": [
            "/usr/local/lib/python3.6/dist-packages/gensim/matutils.py:737: FutureWarning: Conversion of the second argument of issubdtype from `int` to `np.signedinteger` is deprecated. In future, it will be treated as `np.int64 == np.dtype(int).type`.\n",
            "  if np.issubdtype(vec.dtype, np.int):\n"
          ],
          "name": "stderr"
        },
        {
          "output_type": "execute_result",
          "data": {
            "text/plain": [
              "[('지능', 0.9641318321228027),\n",
              " ('학습', 0.850963294506073),\n",
              " ('결합', 0.8340904116630554),\n",
              " ('의료', 0.8181506395339966),\n",
              " ('유전자', 0.8155989050865173),\n",
              " ('높아', 0.8125324845314026),\n",
              " ('정확성', 0.8053737282752991),\n",
              " ('러닝', 0.7977407574653625),\n",
              " ('에너지', 0.7974292039871216),\n",
              " ('핀란드', 0.7899794578552246)]"
            ]
          },
          "metadata": {
            "tags": []
          },
          "execution_count": 17
        }
      ]
    },
    {
      "cell_type": "code",
      "metadata": {
        "id": "FCFcUHwq1FP0",
        "colab_type": "code",
        "colab": {}
      },
      "source": [
        ""
      ],
      "execution_count": 0,
      "outputs": []
    }
  ]
}